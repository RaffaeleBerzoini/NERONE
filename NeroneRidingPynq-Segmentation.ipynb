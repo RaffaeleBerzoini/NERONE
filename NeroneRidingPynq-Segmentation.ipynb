{
 "cells": [
  {
   "cell_type": "code",
   "execution_count": null,
   "id": "6f67a35d",
   "metadata": {},
   "outputs": [],
   "source": [
    "from pynq_dpu import DpuOverlay\n",
    "overlay = DpuOverlay(\"dpu.bit\")"
   ]
  },
  {
   "cell_type": "code",
   "execution_count": 2,
   "id": "782568e8",
   "metadata": {},
   "outputs": [],
   "source": [
    "import os\n",
    "import time\n",
    "import numpy as np\n",
    "import cv2\n",
    "import matplotlib.pyplot as plt\n",
    "import threading\n",
    "%matplotlib inline"
   ]
  },
  {
   "cell_type": "code",
   "execution_count": 3,
   "id": "dcdc5028",
   "metadata": {},
   "outputs": [],
   "source": [
    "import pynq\n",
    "\n",
    "rails = pynq.get_rails()\n",
    "recorder = pynq.DataRecorder(rails['12V'].power)"
   ]
  },
  {
   "cell_type": "code",
   "execution_count": 4,
   "id": "ff6d2b14",
   "metadata": {},
   "outputs": [],
   "source": [
    "def prepare_prediction(pred):\n",
    "    mask = np.argmax(pred, axis=-1)\n",
    "    mask = mask.astype('uint8')\n",
    "    return mask"
   ]
  },
  {
   "cell_type": "code",
   "execution_count": 5,
   "id": "1f0ada55",
   "metadata": {},
   "outputs": [],
   "source": [
    "overlay.load_model(\"NERONE4FPGA.xmodel\")"
   ]
  },
  {
   "cell_type": "code",
   "execution_count": null,
   "id": "a83a878e",
   "metadata": {},
   "outputs": [],
   "source": [
    "image_folder = 'images'\n",
    "image_format = \"npy\" # change the format of your image here\n",
    "original_images = [i for i in os.listdir(image_folder) if i.endswith(image_format)]\n",
    "total_images = len(original_images)\n",
    "print(total_images)"
   ]
  },
  {
   "cell_type": "code",
   "execution_count": 7,
   "id": "70a8b74e",
   "metadata": {},
   "outputs": [],
   "source": [
    "dpu = overlay.runner\n",
    "\n",
    "inputTensors = dpu.get_input_tensors()\n",
    "outputTensors = dpu.get_output_tensors()\n",
    "\n",
    "shapeIn = tuple(inputTensors[0].dims)\n",
    "shapeOut = tuple(outputTensors[0].dims)\n",
    "outputSize = int(outputTensors[0].get_data_size() / shapeIn[0])"
   ]
  },
  {
   "cell_type": "code",
   "execution_count": 8,
   "id": "476f0a22",
   "metadata": {},
   "outputs": [],
   "source": [
    "output_data = [np.empty(shapeOut, dtype=np.float32, order=\"C\")]\n",
    "input_data = [np.empty(shapeIn, dtype=np.float32, order=\"C\")]\n",
    "image = input_data[0]"
   ]
  },
  {
   "cell_type": "code",
   "execution_count": 9,
   "id": "1e6150cd",
   "metadata": {},
   "outputs": [],
   "source": [
    "def run(image_index, save = False):\n",
    "    # preprocessing made during training on gpu. Must be repeated here. Remove or modify as needed\n",
    "    preprocessed = np.load(\"images/\" + original_images[image_index])\n",
    "    image[0,...] = preprocessed.reshape(shapeIn[1:])\n",
    "\n",
    "    job_id = dpu.execute_async(input_data, output_data)\n",
    "    dpu.wait(job_id)\n",
    "    temp = [j.reshape(1, outputSize) for j in output_data] # do not remove\n",
    "    if save:\n",
    "        pred = output_data[0]\n",
    "        pred = prepare_prediction(pred)\n",
    "        np.save('predictions/'+original_images[image_index], pred)"
   ]
  },
  {
   "cell_type": "code",
   "execution_count": null,
   "id": "a00bc8aa",
   "metadata": {
    "scrolled": true
   },
   "outputs": [],
   "source": [
    "index = 50\n",
    "run(index)\n",
    "f, axarr = plt.subplots(1, 3, figsize=(16,12))\n",
    "\n",
    "input_slice = np.load(\"images/\" + original_images[index])\n",
    "lbl_slice = np.load(\"labels/\"+ original_images[index])\n",
    "prediction = prepare_prediction(output_data[0])\n",
    "\n",
    "axarr[0].imshow(input_slice[:, :], cmap = 'gray')\n",
    "axarr[1].imshow(prediction[0,:,:], cmap = 'gray')\n",
    "axarr[2].imshow(lbl_slice, cmap = 'gray')"
   ]
  },
  {
   "cell_type": "code",
   "execution_count": null,
   "id": "6b0d87e8",
   "metadata": {},
   "outputs": [],
   "source": [
    "def single_thread(start, end):\n",
    "    [run(i) for i in range(start, end)]"
   ]
  },
  {
   "cell_type": "code",
   "execution_count": null,
   "id": "716fe7b6",
   "metadata": {},
   "outputs": [],
   "source": [
    "def measure_performances(threads=2):\n",
    "\n",
    "    '''run threads '''\n",
    "    print('Building',threads,'threads...')\n",
    "    threadAll = []\n",
    "    start=0\n",
    "    for i in range(threads):\n",
    "        if (i==threads-1):\n",
    "            end = len(original_images)\n",
    "        else:\n",
    "            end = start+(len(original_images)//threads)\n",
    "        t1 = threading.Thread(target=single_thread, args=(start, end))\n",
    "        threadAll.append(t1)\n",
    "        #  print(start, end)\n",
    "        start=end\n",
    "\n",
    "    print('Starting',threads,'threads...')\n",
    "    with recorder.record(0.5):\n",
    "        time1 = time.time()\n",
    "        for x in threadAll:\n",
    "            x.start()\n",
    "        for x in threadAll:\n",
    "            x.join()\n",
    "        time2 = time.time()\n",
    "        timetotal = time2 - time1\n",
    "\n",
    "    fps = float(len(original_images) / timetotal)\n",
    "    print(\"Throughput=%.2f fps, total frames = %.0f, time=%.4f seconds\" %(fps, len(original_images), timetotal))\n",
    "    return fps, len(original_images), timetotal, np.mean(recorder.frame['12V_power'])"
   ]
  },
  {
   "cell_type": "code",
   "execution_count": null,
   "id": "7bc100e8",
   "metadata": {},
   "outputs": [],
   "source": [
    "fpss = []\n",
    "powers = []\n",
    "\n",
    "for i in range(5):\n",
    "    fps, _, _, power = measure_performances(threads=4)\n",
    "    fpss.append(fps)\n",
    "    powers.append(power)\n",
    "\n",
    "print(fpss)\n",
    "print(powers)\n",
    "print(\"Throughput: %.2f +- %.2f with power consumption of %.2f +- %.2f\" %(np.mean(fpss), np.std(fpss), np.mean(powers), np.std(powers)))"
   ]
  },
  {
   "cell_type": "code",
   "execution_count": null,
   "id": "f0a07334",
   "metadata": {},
   "outputs": [],
   "source": [
    "del overlay\n",
    "del dpu"
   ]
  }
 ],
 "metadata": {
  "kernelspec": {
   "display_name": "Python 3",
   "language": "python",
   "name": "python3"
  },
  "language_info": {
   "codemirror_mode": {
    "name": "ipython",
    "version": 3
   },
   "file_extension": ".py",
   "mimetype": "text/x-python",
   "name": "python",
   "nbconvert_exporter": "python",
   "pygments_lexer": "ipython3",
   "version": "3.8.2"
  }
 },
 "nbformat": 4,
 "nbformat_minor": 5
}
