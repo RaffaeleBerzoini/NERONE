{
 "cells": [
  {
   "cell_type": "code",
   "execution_count": 1,
   "id": "6f67a35d",
   "metadata": {},
   "outputs": [
    {
     "data": {
      "application/javascript": "\ntry {\nrequire(['notebook/js/codecell'], function(codecell) {\n  codecell.CodeCell.options_default.highlight_modes[\n      'magic_text/x-csrc'] = {'reg':[/^%%microblaze/]};\n  Jupyter.notebook.events.one('kernel_ready.Kernel', function(){\n      Jupyter.notebook.get_cells().map(function(cell){\n          if (cell.cell_type == 'code'){ cell.auto_highlight(); } }) ;\n  });\n});\n} catch (e) {};\n"
     },
     "metadata": {},
     "output_type": "display_data"
    },
    {
     "data": {
      "application/javascript": "\ntry {\nrequire(['notebook/js/codecell'], function(codecell) {\n  codecell.CodeCell.options_default.highlight_modes[\n      'magic_text/x-csrc'] = {'reg':[/^%%pybind11/]};\n  Jupyter.notebook.events.one('kernel_ready.Kernel', function(){\n      Jupyter.notebook.get_cells().map(function(cell){\n          if (cell.cell_type == 'code'){ cell.auto_highlight(); } }) ;\n  });\n});\n} catch (e) {};\n"
     },
     "metadata": {},
     "output_type": "display_data"
    }
   ],
   "source": [
    "from pynq_dpu import DpuOverlay\n",
    "overlay = DpuOverlay(\"dpu.bit\")"
   ]
  },
  {
   "cell_type": "code",
   "execution_count": 2,
   "id": "782568e8",
   "metadata": {},
   "outputs": [],
   "source": [
    "import os\n",
    "import time\n",
    "import numpy as np\n",
    "import cv2\n",
    "import matplotlib.pyplot as plt\n",
    "import threading\n",
    "%matplotlib inline"
   ]
  },
  {
   "cell_type": "code",
   "execution_count": 3,
   "id": "70515ce0",
   "metadata": {},
   "outputs": [],
   "source": [
    "import pynq\n",
    "\n",
    "rails = pynq.get_rails()\n",
    "recorder = pynq.DataRecorder(rails['12V'].power)"
   ]
  },
  {
   "cell_type": "code",
   "execution_count": 4,
   "id": "1f0ada55",
   "metadata": {},
   "outputs": [],
   "source": [
    "overlay.load_model(\"NERONE4FPGA.xmodel\")"
   ]
  },
  {
   "cell_type": "code",
   "execution_count": null,
   "id": "a83a878e",
   "metadata": {},
   "outputs": [],
   "source": [
    "image_folder = 'images'\n",
    "image_format = \"jpeg\" # change the format of your image here\n",
    "original_images = [i for i in os.listdir(image_folder) if i.endswith(image_format)]\n",
    "total_images = len(original_images)\n",
    "print(total_images)"
   ]
  },
  {
   "cell_type": "code",
   "execution_count": 6,
   "id": "70a8b74e",
   "metadata": {},
   "outputs": [],
   "source": [
    "dpu = overlay.runner\n",
    "\n",
    "inputTensors = dpu.get_input_tensors()\n",
    "outputTensors = dpu.get_output_tensors()\n",
    "\n",
    "shapeIn = tuple(inputTensors[0].dims)\n",
    "shapeOut = tuple(outputTensors[0].dims)\n",
    "outputSize = int(outputTensors[0].get_data_size() / shapeIn[0])"
   ]
  },
  {
   "cell_type": "code",
   "execution_count": 7,
   "id": "476f0a22",
   "metadata": {},
   "outputs": [],
   "source": [
    "output_data = [np.empty(shapeOut, dtype=np.float32, order=\"C\")]\n",
    "input_data = [np.empty(shapeIn, dtype=np.float32, order=\"C\")]\n",
    "image = input_data[0]"
   ]
  },
  {
   "cell_type": "code",
   "execution_count": 8,
   "id": "1e6150cd",
   "metadata": {},
   "outputs": [],
   "source": [
    "def run(image_index):\n",
    "    # preprocessing made during training on gpu. Must be repeated here. Remove or modify as needed\n",
    "    preprocessed = cv2.cvtColor(cv2.imread(\"images/\" + original_images[image_index]), cv2.COLOR_BGR2RGB)\n",
    "    preprocessed = preprocessed * (1/255.0)\n",
    "    preprocessed = cv2.resize(preprocessed, (shapeIn[1], shapeIn[2]))\n",
    "    image[0,...] = preprocessed.reshape(shapeIn[1:])\n",
    "    \n",
    "    job_id = dpu.execute_async(input_data, output_data)\n",
    "    dpu.wait(job_id)\n",
    "    temp = [j.reshape(1, outputSize) for j in output_data] # do not remove"
   ]
  },
  {
   "cell_type": "code",
   "execution_count": null,
   "id": "334903cb",
   "metadata": {},
   "outputs": [],
   "source": [
    "index = 0\n",
    "run(index)\n",
    "print(original_images[index])"
   ]
  },
  {
   "cell_type": "code",
   "execution_count": 10,
   "id": "a730df79",
   "metadata": {},
   "outputs": [
    {
     "data": {
      "text/plain": [
       "(1, 4)"
      ]
     },
     "execution_count": 10,
     "metadata": {},
     "output_type": "execute_result"
    }
   ],
   "source": [
    "prediction = output_data[0]\n",
    "prediction"
   ]
  },
  {
   "cell_type": "code",
   "execution_count": 11,
   "id": "4c32a89d",
   "metadata": {},
   "outputs": [
    {
     "data": {
      "text/plain": [
       "array([[-2.375,  1.75 ,  3.5  , -2.625]], dtype=float32)"
      ]
     },
     "execution_count": 11,
     "metadata": {},
     "output_type": "execute_result"
    }
   ],
   "source": [
    "label = np.argmax(prediction)\n",
    "label"
   ]
  },
  {
   "cell_type": "code",
   "execution_count": 13,
   "id": "6b0d87e8",
   "metadata": {},
   "outputs": [],
   "source": [
    "def single_thread(start, end):\n",
    "    [run(i) for i in range(start, end)]"
   ]
  },
  {
   "cell_type": "code",
   "execution_count": 14,
   "id": "d9f63741",
   "metadata": {},
   "outputs": [],
   "source": [
    "def measure_performances(threads=2):\n",
    "    threads = 2\n",
    "\n",
    "    '''run threads '''\n",
    "    print('Building',threads,'threads...')\n",
    "    threadAll = []\n",
    "    start=0\n",
    "    for i in range(threads):\n",
    "        if (i==threads-1):\n",
    "            end = len(original_images)\n",
    "        else:\n",
    "            end = start+(len(original_images)//threads)\n",
    "        t1 = threading.Thread(target=single_thread, args=(start, end))\n",
    "        threadAll.append(t1)\n",
    "        #  print(start, end)\n",
    "        start=end\n",
    "\n",
    "    print('Starting',threads,'threads...')\n",
    "    with recorder.record(0.5):\n",
    "        time1 = time.time()\n",
    "        for x in threadAll:\n",
    "            x.start()\n",
    "        for x in threadAll:\n",
    "            x.join()\n",
    "        time2 = time.time()\n",
    "        timetotal = time2 - time1\n",
    "\n",
    "\n",
    "    fps = float(len(original_images) / timetotal)\n",
    "    print(\"Throughput=%.2f fps, total frames = %.0f, time=%.4f seconds\" %(fps, len(original_images), timetotal))\n",
    "    return fps, len(original_images), timetotal, np.mean(recorder.frame['12V_power'])"
   ]
  },
  {
   "cell_type": "code",
   "execution_count": 15,
   "id": "191b99f4",
   "metadata": {},
   "outputs": [
    {
     "name": "stdout",
     "output_type": "stream",
     "text": [
      "Building 2 threads...\n",
      "Starting 2 threads...\n",
      "Throughput=225.20 fps, total frames = 1198, time=5.3197 seconds\n",
      "Building 2 threads...\n",
      "Starting 2 threads...\n",
      "Throughput=225.40 fps, total frames = 1198, time=5.3151 seconds\n",
      "Building 2 threads...\n",
      "Starting 2 threads...\n",
      "Throughput=224.55 fps, total frames = 1198, time=5.3351 seconds\n",
      "Building 2 threads...\n",
      "Starting 2 threads...\n",
      "Throughput=225.72 fps, total frames = 1198, time=5.3074 seconds\n",
      "Building 2 threads...\n",
      "Starting 2 threads...\n",
      "Throughput=226.57 fps, total frames = 1198, time=5.2876 seconds\n",
      "[225.20165822134038, 225.3971705092727, 224.55094143767894, 225.72045731159767, 226.56715327943846]\n",
      "[17.372454545454545, 17.34459090909091, 17.34557575757576, 17.338636363636365, 17.344727272727273]\n",
      "Throughput: 225.49 +- 0.66 with power consumption of 17.35 +- 0.01\n"
     ]
    }
   ],
   "source": [
    "fpss = []\n",
    "powers = []\n",
    "# original_images *= 10 # uncomment to evaluate 780 images instead of 78, just for precision purposes\n",
    "for i in range(5):\n",
    "    fps, _, _, power = measure_performances(threads=2)\n",
    "    fpss.append(fps)\n",
    "    powers.append(power)\n",
    "\n",
    "print(fpss)\n",
    "print(powers)\n",
    "print(\"Throughput: %.2f +- %.2f with power consumption of %.2f +- %.2f\" %(np.mean(fpss), np.std(fpss), np.mean(powers), np.std(powers)))"
   ]
  },
  {
   "cell_type": "code",
   "execution_count": null,
   "id": "df3f0258",
   "metadata": {},
   "outputs": [],
   "source": [
    "del overlay\n",
    "del dpu"
   ]
  }
 ],
 "metadata": {
  "kernelspec": {
   "display_name": "Python 3",
   "language": "python",
   "name": "python3"
  },
  "language_info": {
   "codemirror_mode": {
    "name": "ipython",
    "version": 3
   },
   "file_extension": ".py",
   "mimetype": "text/x-python",
   "name": "python",
   "nbconvert_exporter": "python",
   "pygments_lexer": "ipython3",
   "version": "3.8.2"
  }
 },
 "nbformat": 4,
 "nbformat_minor": 5
}
